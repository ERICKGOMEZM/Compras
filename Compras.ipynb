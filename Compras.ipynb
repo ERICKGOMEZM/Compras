{
 "cells": [
  {
   "cell_type": "code",
   "execution_count": 1,
   "metadata": {},
   "outputs": [],
   "source": [
    "import pandas as pd\n",
    "from datetime import datetime, timedelta #datetime opera fechas con +,-, mayor qué, menor qué. Timedelta le ayuda a sumar o restar días a una fecha\n",
    "import os\n",
    "import re"
   ]
  },
  {
   "cell_type": "code",
   "execution_count": 3,
   "metadata": {},
   "outputs": [
    {
     "name": "stdout",
     "output_type": "stream",
     "text": [
      "Fechas de inicio y fin: 2024-01-01 00:00:00 - 2024-12-31 00:00:00\n",
      "Se generaron los siguientes 366 nombres de archivos:\n"
     ]
    }
   ],
   "source": [
    "def generar_lista_fechas(fecha_inicio, fecha_fin):\n",
    "    \n",
    "\n",
    "    lista_archivos = []  # Crea lista vacía para almacenar los nombres de los archivos\n",
    "    aux = fecha_inicio  # Crea variable auxiliar para recorrer las fechas\n",
    "    \n",
    "    while aux <= fecha_fin:\n",
    "        file = aux.strftime(\"%d_%m_%Y\") + \"ProductosMasVendidos.xls\"\n",
    "        lista_archivos.append(file)  # Coloca file al final de la lista\n",
    "        aux += timedelta(days=1)  # Recorre la fecha un día hacia adelante\n",
    "\n",
    "    # Revisamos si la lista está vacía\n",
    "    if len(lista_archivos) == 0:\n",
    "        print(\"No se generaron nombres de archivos\")\n",
    "    else:\n",
    "        print(f\"Se generaron los siguientes {len(lista_archivos)} nombres de archivos:\")\n",
    "        for archivo in lista_archivos:\n",
    "            #print(archivo)\n",
    "            pass\n",
    "\n",
    "    return lista_archivos\n",
    "\n",
    "# Definir las fechas de inicio y fin\n",
    "fecha_inicio = datetime(2024, 1, 1)\n",
    "fecha_fin = datetime(2024, 12, 31)\n",
    "print(f\"Fechas de inicio y fin: {fecha_inicio} - {fecha_fin}\")\n",
    "\n",
    "# Llamar a la función y obtener la lista de archivos\n",
    "lista_archivos = generar_lista_fechas(fecha_inicio, fecha_fin)"
   ]
  },
  {
   "cell_type": "code",
   "execution_count": 13,
   "metadata": {},
   "outputs": [
    {
     "name": "stdout",
     "output_type": "stream",
     "text": [
      "Buscando archivos en C:/Users/david/Documents/Desarrollo/Datos2\\Abril24\n",
      "['01_04_2024ProductosMasVendidos.xls', '02_04_2024ProductosMasVendidos.xls', '03_04_2024ProductosMasVendidos.xls', '04_04_2024ProductosMasVendidos.xls', '05_04_2024ProductosMasVendidos.xls', '06_04_2024ProductosMasVendidos.xls', '07_04_2024ProductosMasVendidos.xls', '08_04_2024ProductosMasVendidos.xls', '09_04_2024ProductosMasVendidos.xls', '10_04_2024ProductosMasVendidos.xls', '11_04_2024ProductosMasVendidos.xls', '12_04_2024ProductosMasVendidos.xls', '13_04_2024ProductosMasVendidos.xls', '14_04_2024ProductosMasVendidos.xls', '15_04_2024ProductosMasVendidos.xls', '16_04_2024ProductosMasVendidos.xls', '17_04_2024ProductosMasVendidos.xls', '18_04_2024ProductosMasVendidos.xls', '19_04_2024ProductosMasVendidos.xls', '20_04_2024ProductosMasVendidos.xls', '21_04_2024ProductosMasVendidos.xls', '22_04_2024ProductosMasVendidos.xls', '23_04_2024ProductosMasVendidos.xls', '24_04_2024ProductosMasVendidos.xls', '25_04_2024ProductosMasVendidos.xls', '26_04_2024ProductosMasVendidos.xls', '27_04_2024ProductosMasVendidos.xls', '28_04_2024ProductosMasVendidos.xls', '29_04_2024ProductosMasVendidos.xls', '30_04_2024ProductosMasVendidos.xls']\n",
      "Buscando archivos en C:/Users/david/Documents/Desarrollo/Datos2\\Agosto24\n",
      "['01_08_2024ProductosMasVendidos.xls', '02_08_2024ProductosMasVendidos.xls', '03_08_2024ProductosMasVendidos.xls', '04_08_2024ProductosMasVendidos.xls', '05_08_2024ProductosMasVendidos.xls', '06_08_2024ProductosMasVendidos.xls', '07_08_2024ProductosMasVendidos.xls', '08_08_2024ProductosMasVendidos.xls', '09_08_2024ProductosMasVendidos.xls', '10_08_2024ProductosMasVendidos.xls', '11_08_2024ProductosMasVendidos.xls', '12_08_2024ProductosMasVendidos.xls', '13_08_2024ProductosMasVendidos.xls', '14_08_2024ProductosMasVendidos.xls', '15_08_2024ProductosMasVendidos.xls', '16_08_2024ProductosMasVendidos.xls', '17_08_2024ProductosMasVendidos.xls', '18_08_2024ProductosMasVendidos.xls', '19_08_2024ProductosMasVendidos.xls', '20_08_2024ProductosMasVendidos.xls', '21_08_2024ProductosMasVendidos.xls', '22_08_2024ProductosMasVendidos.xls', '23_08_2024ProductosMasVendidos.xls', '24_08_2024ProductosMasVendidos.xls', '25_08_2024ProductosMasVendidos.xls', '26_08_2024ProductosMasVendidos.xls', '27_08_2024ProductosMasVendidos.xls', '28_08_2024ProductosMasVendidos.xls', '29_08_2024ProductosMasVendidos.xls', '30_08_2024ProductosMasVendidos.xls', '31_08_2024ProductosMasVendidos.xls']\n",
      "Buscando archivos en C:/Users/david/Documents/Desarrollo/Datos2\\Diciembre24\n",
      "['01_12_2024ProductosMasVendidos.xls', '02_12_2024ProductosMasVendidos.xls', '03_12_2024ProductosMasVendidos.xls', '04_12_2024ProductosMasVendidos.xls', '05_12_2024ProductosMasVendidos.xls', '06_12_2024ProductosMasVendidos.xls', '07_12_2024ProductosMasVendidos.xls', '08_12_2024ProductosMasVendidos.xls', '09_12_2024ProductosMasVendidos.xls', '10_12_2024ProductosMasVendidos.xls', '11_12_2024ProductosMasVendidos.xls', '12_12_2024ProductosMasVendidos.xls', '13_12_2024ProductosMasVendidos.xls', '14_12_2024ProductosMasVendidos.xls', '15_12_2024ProductosMasVendidos.xls', '16_12_2024ProductosMasVendidos.xls', '17_12_2024ProductosMasVendidos.xls', '18_12_2024ProductosMasVendidos.xls', '19_12_2024ProductosMasVendidos.xls', '20_12_2024ProductosMasVendidos.xls', '21_12_2024ProductosMasVendidos.xls', '22_12_2024ProductosMasVendidos.xls', '23_12_2024ProductosMasVendidos.xls', '24_12_2024ProductosMasVendidos.xls', '25_12_2024ProductosMasVendidos.xls', '26_12_2024ProductosMasVendidos.xls', '27_12_2024ProductosMasVendidos.xls', '28_12_2024ProductosMasVendidos.xls', '29_12_2024ProductosMasVendidos.xls', '30_12_2024ProductosMasVendidos.xls', '31_12_2024ProductosMasVendidos.xls']\n",
      "Buscando archivos en C:/Users/david/Documents/Desarrollo/Datos2\\Enero24\n",
      "['01_01_2024ProductosMasVendidos.xls', '02_01_2024ProductosMasVendidos.xls', '03_01_2024ProductosMasVendidos.xls', '04_01_2024ProductosMasVendidos.xls', '05_01_2024ProductosMasVendidos.xls', '06_01_2024ProductosMasVendidos.xls', '07_01_2024ProductosMasVendidos.xls', '08_01_2024ProductosMasVendidos.xls', '09_01_2024ProductosMasVendidos.xls', '10_01_2024ProductosMasVendidos.xls', '11_01_2024ProductosMasVendidos.xls', '12_01_2024ProductosMasVendidos.xls', '13_01_2024ProductosMasVendidos.xls', '14_01_2024ProductosMasVendidos.xls', '15_01_2024ProductosMasVendidos.xls', '16_01_2024ProductosMasVendidos.xls', '17_01_2024ProductosMasVendidos.xls', '18_01_2024ProductosMasVendidos.xls', '19_01_2024ProductosMasVendidos.xls', '20_01_2024ProductosMasVendidos.xls', '21_01_2024ProductosMasVendidos.xls', '22_01_2024ProductosMasVendidos.xls', '23_01_2024ProductosMasVendidos.xls', '24_01_2024ProductosMasVendidos.xls', '25_01_2024ProductosMasVendidos.xls', '26_01_2024ProductosMasVendidos.xls', '27_01_2024ProductosMasVendidos.xls', '28_01_2024ProductosMasVendidos.xls', '29_01_2024ProductosMasVendidos.xls', '30_01_2024ProductosMasVendidos.xls', '31_01_2024ProductosMasVendidos.xls']\n",
      "Buscando archivos en C:/Users/david/Documents/Desarrollo/Datos2\\Febrero24\n",
      "['01_02_2024ProductosMasVendidos.xls', '02_02_2024ProductosMasVendidos.xls', '03_02_2024ProductosMasVendidos.xls', '04_02_2024ProductosMasVendidos.xls', '05_02_2024ProductosMasVendidos.xls', '06_02_2024ProductosMasVendidos.xls', '07_02_2024ProductosMasVendidos.xls', '08_02_2024ProductosMasVendidos.xls', '09_02_2024ProductosMasVendidos.xls', '10_02_2024ProductosMasVendidos.xls', '11_02_2024ProductosMasVendidos.xls', '12_02_2024ProductosMasVendidos.xls', '13_02_2024ProductosMasVendidos.xls', '14_02_2024ProductosMasVendidos.xls', '15_02_2024ProductosMasVendidos.xls', '16_02_2024ProductosMasVendidos.xls', '17_02_2024ProductosMasVendidos.xls', '18_02_2024ProductosMasVendidos.xls', '19_02_2024ProductosMasVendidos.xls', '20_02_2024ProductosMasVendidos.xls', '21_02_2024ProductosMasVendidos.xls', '22_02_2024ProductosMasVendidos.xls', '23_02_2024ProductosMasVendidos.xls', '24_02_2024ProductosMasVendidos.xls', '25_02_2024ProductosMasVendidos.xls', '26_02_2024ProductosMasVendidos.xls', '27_02_2024ProductosMasVendidos.xls', '28_02_2024ProductosMasVendidos.xls', '29_02_2024ProductosMasVendidos.xls']\n",
      "Buscando archivos en C:/Users/david/Documents/Desarrollo/Datos2\\Julio24\n",
      "['01_07_2024ProductosMasVendidos.xls', '02_07_2024ProductosMasVendidos.xls', '03_07_2024ProductosMasVendidos.xls', '04_07_2024ProductosMasVendidos.xls', '05_07_2024ProductosMasVendidos.xls', '06_07_2024ProductosMasVendidos.xls', '07_07_2024ProductosMasVendidos.xls', '08_07_2024ProductosMasVendidos.xls', '09_07_2024ProductosMasVendidos.xls', '10_07_2024ProductosMasVendidos.xls', '11_07_2024ProductosMasVendidos.xls', '12_07_2024ProductosMasVendidos.xls', '13_07_2024ProductosMasVendidos.xls', '14_07_2024ProductosMasVendidos.xls', '15_07_2024ProductosMasVendidos.xls', '16_07_2024ProductosMasVendidos.xls', '17_07_2024ProductosMasVendidos.xls', '18_07_2024ProductosMasVendidos.xls', '19_07_2024ProductosMasVendidos.xls', '20_07_2024ProductosMasVendidos.xls', '21_07_2024ProductosMasVendidos.xls', '22_07_2024ProductosMasVendidos.xls', '23_07_2024ProductosMasVendidos.xls', '24_07_2024ProductosMasVendidos.xls', '25_07_2024ProductosMasVendidos.xls', '26_07_2024ProductosMasVendidos.xls', '27_07_2024ProductosMasVendidos.xls', '28_07_2024ProductosMasVendidos.xls', '29_07_2024ProductosMasVendidos.xls', '30_07_2024ProductosMasVendidos.xls', '31_07_2024ProductosMasVendidos.xls']\n",
      "Buscando archivos en C:/Users/david/Documents/Desarrollo/Datos2\\Junio24\n",
      "['01_06_2024ProductosMasVendidos.xls', '02_06_2024ProductosMasVendidos.xls', '03_06_2024ProductosMasVendidos.xls', '04_06_2024ProductosMasVendidos.xls', '05_06_2024ProductosMasVendidos.xls', '06_06_2024ProductosMasVendidos.xls', '07_06_2024ProductosMasVendidos.xls', '08_06_2024ProductosMasVendidos.xls', '09_06_2024ProductosMasVendidos.xls', '10_06_2024ProductosMasVendidos.xls', '11_06_2024ProductosMasVendidos.xls', '12_06_2024ProductosMasVendidos.xls', '13_06_2024ProductosMasVendidos.xls', '14_06_2024ProductosMasVendidos.xls', '15_06_2024ProductosMasVendidos.xls', '16_06_2024ProductosMasVendidos.xls', '17_06_2024ProductosMasVendidos.xls', '18_06_2024ProductosMasVendidos.xls', '19_06_2024ProductosMasVendidos.xls', '20_06_2024ProductosMasVendidos.xls', '21_06_2024ProductosMasVendidos.xls', '22_06_2024ProductosMasVendidos.xls', '23_06_2024ProductosMasVendidos.xls', '24_06_2024ProductosMasVendidos.xls', '25_06_2024ProductosMasVendidos.xls', '26_06_2024ProductosMasVendidos.xls', '27_06_2024ProductosMasVendidos.xls', '28_06_2024ProductosMasVendidos.xls', '29_06_2024ProductosMasVendidos.xls', '30_06_2024ProductosMasVendidos.xls']\n",
      "Buscando archivos en C:/Users/david/Documents/Desarrollo/Datos2\\Marzo24\n",
      "['01_03_2024ProductosMasVendidos.xls', '02_03_2024ProductosMasVendidos.xls', '03_03_2024ProductosMasVendidos.xls', '04_03_2024ProductosMasVendidos.xls', '05_03_2024ProductosMasVendidos.xls', '06_03_2024ProductosMasVendidos.xls', '07_03_2024ProductosMasVendidos.xls', '08_03_2024ProductosMasVendidos.xls', '09_03_2024ProductosMasVendidos.xls', '10_03_2024ProductosMasVendidos.xls', '11_03_2024ProductosMasVendidos.xls', '12_03_2024ProductosMasVendidos.xls', '13_03_2024ProductosMasVendidos.xls', '14_03_2024ProductosMasVendidos.xls', '15_03_2024ProductosMasVendidos.xls', '16_03_2024ProductosMasVendidos.xls', '17_03_2024ProductosMasVendidos.xls', '18_03_2024ProductosMasVendidos.xls', '19_03_2024ProductosMasVendidos.xls', '20_03_2024ProductosMasVendidos.xls', '21_03_2024ProductosMasVendidos.xls', '22_03_2024ProductosMasVendidos.xls', '23_03_2024ProductosMasVendidos.xls', '24_03_2024ProductosMasVendidos.xls', '25_03_2024ProductosMasVendidos.xls', '26_03_2024ProductosMasVendidos.xls', '27_03_2024ProductosMasVendidos.xls', '28_03_2024ProductosMasVendidos.xls', '29_03_2024ProductosMasVendidos.xls', '30_03_2024ProductosMasVendidos.xls', '31_03_2024ProductosMasVendidos.xls']\n",
      "Buscando archivos en C:/Users/david/Documents/Desarrollo/Datos2\\Mayo24\n",
      "['01_05_2024ProductosMasVendidos.xls', '02_05_2024ProductosMasVendidos.xls', '03_05_2024ProductosMasVendidos.xls', '04_05_2024ProductosMasVendidos.xls', '05_05_2024ProductosMasVendidos.xls', '06_05_2024ProductosMasVendidos.xls', '07_05_2024ProductosMasVendidos.xls', '08_05_2024ProductosMasVendidos.xls', '09_05_2024ProductosMasVendidos.xls', '10_05_2024ProductosMasVendidos.xls', '11_05_2024ProductosMasVendidos.xls', '12_05_2024ProductosMasVendidos.xls', '13_05_2024ProductosMasVendidos.xls', '14_05_2024ProductosMasVendidos.xls', '15_05_2024ProductosMasVendidos.xls', '16_05_2024ProductosMasVendidos.xls', '17_05_2024ProductosMasVendidos.xls', '18_05_2024ProductosMasVendidos.xls', '19_05_2024ProductosMasVendidos.xls', '20_05_2024ProductosMasVendidos.xls', '21_05_2024ProductosMasVendidos.xls', '22_05_2024ProductosMasVendidos.xls', '23_05_2024ProductosMasVendidos.xls', '24_05_2024ProductosMasVendidos.xls', '25_05_2024ProductosMasVendidos.xls', '26_05_2024ProductosMasVendidos.xls', '27_05_2024ProductosMasVendidos.xls', '28_05_2024ProductosMasVendidos.xls', '29_05_2024ProductosMasVendidos.xls', '30_05_2024ProductosMasVendidos.xls', '31_05_2024ProductosMasVendidos.xls']\n",
      "Buscando archivos en C:/Users/david/Documents/Desarrollo/Datos2\\Noviembre24\n",
      "['01_11_2024ProductosMasVendidos.xls', '02_11_2024ProductosMasVendidos.xls', '03_11_2024ProductosMasVendidos.xls', '04_11_2024ProductosMasVendidos.xls', '05_11_2024ProductosMasVendidos.xls', '06_11_2024ProductosMasVendidos.xls', '07_11_2024ProductosMasVendidos.xls', '08_11_2024ProductosMasVendidos.xls', '09_11_2024ProductosMasVendidos.xls', '10_11_2024ProductosMasVendidos.xls', '11_11_2024ProductosMasVendidos.xls', '12_11_2024ProductosMasVendidos.xls', '13_11_2024ProductosMasVendidos.xls', '14_11_2024ProductosMasVendidos.xls', '15_11_2024ProductosMasVendidos.xls', '16_11_2024ProductosMasVendidos.xls', '17_11_2024ProductosMasVendidos.xls', '18_11_2024ProductosMasVendidos.xls', '19_11_2024ProductosMasVendidos.xls', '20_11_2024ProductosMasVendidos.xls', '21_11_2024ProductosMasVendidos.xls', '22_11_2024ProductosMasVendidos.xls', '23_11_2024ProductosMasVendidos.xls', '24_11_2024ProductosMasVendidos.xls', '25_11_2024ProductosMasVendidos.xls', '26_11_2024ProductosMasVendidos.xls', '27_11_2024ProductosMasVendidos.xls', '28_11_2024ProductosMasVendidos.xls', '29_11_2024ProductosMasVendidos.xls', '30_11_2024ProductosMasVendidos.xls']\n",
      "Buscando archivos en C:/Users/david/Documents/Desarrollo/Datos2\\Octubre24\n",
      "['01_10_2024ProductosMasVendidos.xls', '02_10_2024ProductosMasVendidos.xls', '03_10_2024ProductosMasVendidos.xls', '04_10_2024ProductosMasVendidos.xls', '05_10_2024ProductosMasVendidos.xls', '06_10_2024ProductosMasVendidos.xls', '07_10_2024ProductosMasVendidos.xls', '08_10_2024ProductosMasVendidos.xls', '09_10_2024ProductosMasVendidos.xls', '10_10_2024ProductosMasVendidos.xls', '11_10_2024ProductosMasVendidos.xls', '12_10_2024ProductosMasVendidos.xls', '13_10_2024ProductosMasVendidos.xls', '14_10_2024ProductosMasVendidos.xls', '15_10_2024ProductosMasVendidos.xls', '16_10_2024ProductosMasVendidos.xls', '17_10_2024ProductosMasVendidos.xls', '18_10_2024ProductosMasVendidos.xls', '19_10_2024ProductosMasVendidos.xls', '20_10_2024ProductosMasVendidos.xls', '21_10_2024ProductosMasVendidos.xls', '22_10_2024ProductosMasVendidos.xls', '23_10_2024ProductosMasVendidos.xls', '24_10_2024ProductosMasVendidos.xls', '25_10_2024ProductosMasVendidos.xls', '26_10_2024ProductosMasVendidos.xls', '27_10_2024ProductosMasVendidos.xls', '28_10_2024ProductosMasVendidos.xls', '29_10_2024ProductosMasVendidos.xls', '30_10_2024ProductosMasVendidos.xls', '31_10_2024ProductosMasVendidos.xls']\n",
      "Buscando archivos en C:/Users/david/Documents/Desarrollo/Datos2\\Septiembre24\n",
      "['01_09_2024ProductosMasVendidos.xls', '02_09_2024ProductosMasVendidos.xls', '03_09_2024ProductosMasVendidos.xls', '04_09_2024ProductosMasVendidos.xls', '05_09_2024ProductosMasVendidos.xls', '06_09_2024ProductosMasVendidos.xls', '07_09_2024ProductosMasVendidos.xls', '08_09_2024ProductosMasVendidos.xls', '09_09_2024ProductosMasVendidos.xls', '10_09_2024ProductosMasVendidos.xls', '11_09_2024ProductosMasVendidos.xls', '12_09_2024ProductosMasVendidos.xls', '13_09_2024ProductosMasVendidos.xls', '14_09_2024ProductosMasVendidos.xls', '15_09_2024ProductosMasVendidos.xls', '16_09_2024ProductosMasVendidos.xls', '17_09_2024ProductosMasVendidos.xls', '18_09_2024ProductosMasVendidos.xls', '19_09_2024ProductosMasVendidos.xls', '20_09_2024ProductosMasVendidos.xls', '21_09_2024ProductosMasVendidos.xls', '22_09_2024ProductosMasVendidos.xls', '23_09_2024ProductosMasVendidos.xls', '24_09_2024ProductosMasVendidos.xls', '25_09_2024ProductosMasVendidos.xls', '26_09_2024ProductosMasVendidos.xls', '27_09_2024ProductosMasVendidos.xls', '28_09_2024ProductosMasVendidos.xls', '29_09_2024ProductosMasVendidos.xls', '30_09_2024ProductosMasVendidos.xls']\n",
      "Se encontraron 366 archivos en total.\n"
     ]
    }
   ],
   "source": [
    "def obtener_archivos(ruta):\n",
    "    archivos_anuales = [] # Lista donde se almacenarán los archivos encontrados\n",
    "    \n",
    "    # Expresión regular para validar que los archivos tengan el formato correcto\n",
    "    patron = re.compile(r\"^\\d{2}_\\d{2}_\\d{4}ProductosMasVendidos\\.xls$\")  # Patrón para validar el nombre de archivo\n",
    "\n",
    "    # Recorre todas las carpetas dentro de la ruta base (cada carpeta representa un mes)\n",
    "    for mes in os.listdir(ruta):\n",
    "        ruta_mes = os.path.join(ruta, mes) # Construye la ruta completa de la carpeta del mes\n",
    "\n",
    "        # Verifica si es un directorio antes de procesarlo\n",
    "        if os.path.isdir(ruta_mes):\n",
    "            print (f\"Buscando archivos en {ruta_mes}\")\n",
    "            \n",
    "            # Filtra los archivos de la carpeta del mes que cumplen con el patrón definido\n",
    "            archivos_mes = [f for f in os.listdir(ruta_mes) if patron.match(f)]\n",
    "            print(archivos_mes)\n",
    "            archivos_anuales.extend(archivos_mes)  # Agrega los archivos encontrados a la lista total \n",
    "    print(f\"Se encontraron {len(archivos_anuales)} archivos en total.\")\n",
    "    return archivos_anuales\n",
    "\n",
    "# ruta donde están las carpetas de cada mes\n",
    "ruta = \"C:/Users/david/Documents/Desarrollo/Datos2\"\n",
    "\n",
    "\n",
    "# Llamar a la función\n",
    "archivos_totales = obtener_archivos(ruta)"
   ]
  },
  {
   "cell_type": "code",
   "execution_count": 14,
   "metadata": {},
   "outputs": [
    {
     "name": "stdout",
     "output_type": "stream",
     "text": [
      "Buscando archivos en C:/Users/david/Documents/Desarrollo/Datos2\\Abril24\n",
      "['01_04_2024ProductosMasVendidos.xls', '02_04_2024ProductosMasVendidos.xls', '03_04_2024ProductosMasVendidos.xls', '04_04_2024ProductosMasVendidos.xls', '05_04_2024ProductosMasVendidos.xls', '06_04_2024ProductosMasVendidos.xls', '07_04_2024ProductosMasVendidos.xls', '08_04_2024ProductosMasVendidos.xls', '09_04_2024ProductosMasVendidos.xls', '10_04_2024ProductosMasVendidos.xls', '11_04_2024ProductosMasVendidos.xls', '12_04_2024ProductosMasVendidos.xls', '13_04_2024ProductosMasVendidos.xls', '14_04_2024ProductosMasVendidos.xls', '15_04_2024ProductosMasVendidos.xls', '16_04_2024ProductosMasVendidos.xls', '17_04_2024ProductosMasVendidos.xls', '18_04_2024ProductosMasVendidos.xls', '19_04_2024ProductosMasVendidos.xls', '20_04_2024ProductosMasVendidos.xls', '21_04_2024ProductosMasVendidos.xls', '22_04_2024ProductosMasVendidos.xls', '23_04_2024ProductosMasVendidos.xls', '24_04_2024ProductosMasVendidos.xls', '25_04_2024ProductosMasVendidos.xls', '26_04_2024ProductosMasVendidos.xls', '27_04_2024ProductosMasVendidos.xls', '28_04_2024ProductosMasVendidos.xls', '29_04_2024ProductosMasVendidos.xls', '30_04_2024ProductosMasVendidos.xls']\n",
      "Buscando archivos en C:/Users/david/Documents/Desarrollo/Datos2\\Agosto24\n",
      "['01_08_2024ProductosMasVendidos.xls', '02_08_2024ProductosMasVendidos.xls', '03_08_2024ProductosMasVendidos.xls', '04_08_2024ProductosMasVendidos.xls', '05_08_2024ProductosMasVendidos.xls', '06_08_2024ProductosMasVendidos.xls', '07_08_2024ProductosMasVendidos.xls', '08_08_2024ProductosMasVendidos.xls', '09_08_2024ProductosMasVendidos.xls', '10_08_2024ProductosMasVendidos.xls', '11_08_2024ProductosMasVendidos.xls', '12_08_2024ProductosMasVendidos.xls', '13_08_2024ProductosMasVendidos.xls', '14_08_2024ProductosMasVendidos.xls', '15_08_2024ProductosMasVendidos.xls', '16_08_2024ProductosMasVendidos.xls', '17_08_2024ProductosMasVendidos.xls', '18_08_2024ProductosMasVendidos.xls', '19_08_2024ProductosMasVendidos.xls', '20_08_2024ProductosMasVendidos.xls', '21_08_2024ProductosMasVendidos.xls', '22_08_2024ProductosMasVendidos.xls', '23_08_2024ProductosMasVendidos.xls', '24_08_2024ProductosMasVendidos.xls', '25_08_2024ProductosMasVendidos.xls', '26_08_2024ProductosMasVendidos.xls', '27_08_2024ProductosMasVendidos.xls', '28_08_2024ProductosMasVendidos.xls', '29_08_2024ProductosMasVendidos.xls', '30_08_2024ProductosMasVendidos.xls', '31_08_2024ProductosMasVendidos.xls']\n",
      "Buscando archivos en C:/Users/david/Documents/Desarrollo/Datos2\\Diciembre24\n",
      "['01_12_2024ProductosMasVendidos.xls', '02_12_2024ProductosMasVendidos.xls', '03_12_2024ProductosMasVendidos.xls', '04_12_2024ProductosMasVendidos.xls', '05_12_2024ProductosMasVendidos.xls', '06_12_2024ProductosMasVendidos.xls', '07_12_2024ProductosMasVendidos.xls', '08_12_2024ProductosMasVendidos.xls', '09_12_2024ProductosMasVendidos.xls', '10_12_2024ProductosMasVendidos.xls', '11_12_2024ProductosMasVendidos.xls', '12_12_2024ProductosMasVendidos.xls', '13_12_2024ProductosMasVendidos.xls', '14_12_2024ProductosMasVendidos.xls', '15_12_2024ProductosMasVendidos.xls', '16_12_2024ProductosMasVendidos.xls', '17_12_2024ProductosMasVendidos.xls', '18_12_2024ProductosMasVendidos.xls', '19_12_2024ProductosMasVendidos.xls', '20_12_2024ProductosMasVendidos.xls', '21_12_2024ProductosMasVendidos.xls', '22_12_2024ProductosMasVendidos.xls', '23_12_2024ProductosMasVendidos.xls', '24_12_2024ProductosMasVendidos.xls', '25_12_2024ProductosMasVendidos.xls', '26_12_2024ProductosMasVendidos.xls', '27_12_2024ProductosMasVendidos.xls', '28_12_2024ProductosMasVendidos.xls', '29_12_2024ProductosMasVendidos.xls', '30_12_2024ProductosMasVendidos.xls', '31_12_2024ProductosMasVendidos.xls']\n",
      "Buscando archivos en C:/Users/david/Documents/Desarrollo/Datos2\\Enero24\n",
      "['01_01_2024ProductosMasVendidos.xls', '02_01_2024ProductosMasVendidos.xls', '03_01_2024ProductosMasVendidos.xls', '04_01_2024ProductosMasVendidos.xls', '05_01_2024ProductosMasVendidos.xls', '06_01_2024ProductosMasVendidos.xls', '07_01_2024ProductosMasVendidos.xls', '08_01_2024ProductosMasVendidos.xls', '09_01_2024ProductosMasVendidos.xls', '10_01_2024ProductosMasVendidos.xls', '11_01_2024ProductosMasVendidos.xls', '12_01_2024ProductosMasVendidos.xls', '13_01_2024ProductosMasVendidos.xls', '14_01_2024ProductosMasVendidos.xls', '15_01_2024ProductosMasVendidos.xls', '16_01_2024ProductosMasVendidos.xls', '17_01_2024ProductosMasVendidos.xls', '18_01_2024ProductosMasVendidos.xls', '19_01_2024ProductosMasVendidos.xls', '20_01_2024ProductosMasVendidos.xls', '21_01_2024ProductosMasVendidos.xls', '22_01_2024ProductosMasVendidos.xls', '23_01_2024ProductosMasVendidos.xls', '24_01_2024ProductosMasVendidos.xls', '25_01_2024ProductosMasVendidos.xls', '26_01_2024ProductosMasVendidos.xls', '27_01_2024ProductosMasVendidos.xls', '28_01_2024ProductosMasVendidos.xls', '29_01_2024ProductosMasVendidos.xls', '30_01_2024ProductosMasVendidos.xls', '31_01_2024ProductosMasVendidos.xls']\n",
      "Buscando archivos en C:/Users/david/Documents/Desarrollo/Datos2\\Febrero24\n",
      "['01_02_2024ProductosMasVendidos.xls', '02_02_2024ProductosMasVendidos.xls', '03_02_2024ProductosMasVendidos.xls', '04_02_2024ProductosMasVendidos.xls', '05_02_2024ProductosMasVendidos.xls', '06_02_2024ProductosMasVendidos.xls', '07_02_2024ProductosMasVendidos.xls', '08_02_2024ProductosMasVendidos.xls', '09_02_2024ProductosMasVendidos.xls', '10_02_2024ProductosMasVendidos.xls', '11_02_2024ProductosMasVendidos.xls', '12_02_2024ProductosMasVendidos.xls', '13_02_2024ProductosMasVendidos.xls', '14_02_2024ProductosMasVendidos.xls', '15_02_2024ProductosMasVendidos.xls', '16_02_2024ProductosMasVendidos.xls', '17_02_2024ProductosMasVendidos.xls', '18_02_2024ProductosMasVendidos.xls', '19_02_2024ProductosMasVendidos.xls', '20_02_2024ProductosMasVendidos.xls', '21_02_2024ProductosMasVendidos.xls', '22_02_2024ProductosMasVendidos.xls', '23_02_2024ProductosMasVendidos.xls', '24_02_2024ProductosMasVendidos.xls', '25_02_2024ProductosMasVendidos.xls', '26_02_2024ProductosMasVendidos.xls', '27_02_2024ProductosMasVendidos.xls', '28_02_2024ProductosMasVendidos.xls', '29_02_2024ProductosMasVendidos.xls']\n",
      "Buscando archivos en C:/Users/david/Documents/Desarrollo/Datos2\\Julio24\n",
      "['01_07_2024ProductosMasVendidos.xls', '02_07_2024ProductosMasVendidos.xls', '03_07_2024ProductosMasVendidos.xls', '04_07_2024ProductosMasVendidos.xls', '05_07_2024ProductosMasVendidos.xls', '06_07_2024ProductosMasVendidos.xls', '07_07_2024ProductosMasVendidos.xls', '08_07_2024ProductosMasVendidos.xls', '09_07_2024ProductosMasVendidos.xls', '10_07_2024ProductosMasVendidos.xls', '11_07_2024ProductosMasVendidos.xls', '12_07_2024ProductosMasVendidos.xls', '13_07_2024ProductosMasVendidos.xls', '14_07_2024ProductosMasVendidos.xls', '15_07_2024ProductosMasVendidos.xls', '16_07_2024ProductosMasVendidos.xls', '17_07_2024ProductosMasVendidos.xls', '18_07_2024ProductosMasVendidos.xls', '19_07_2024ProductosMasVendidos.xls', '20_07_2024ProductosMasVendidos.xls', '21_07_2024ProductosMasVendidos.xls', '22_07_2024ProductosMasVendidos.xls', '23_07_2024ProductosMasVendidos.xls', '24_07_2024ProductosMasVendidos.xls', '25_07_2024ProductosMasVendidos.xls', '26_07_2024ProductosMasVendidos.xls', '27_07_2024ProductosMasVendidos.xls', '28_07_2024ProductosMasVendidos.xls', '29_07_2024ProductosMasVendidos.xls', '30_07_2024ProductosMasVendidos.xls', '31_07_2024ProductosMasVendidos.xls']\n",
      "Buscando archivos en C:/Users/david/Documents/Desarrollo/Datos2\\Junio24\n",
      "['01_06_2024ProductosMasVendidos.xls', '02_06_2024ProductosMasVendidos.xls', '03_06_2024ProductosMasVendidos.xls', '04_06_2024ProductosMasVendidos.xls', '05_06_2024ProductosMasVendidos.xls', '06_06_2024ProductosMasVendidos.xls', '07_06_2024ProductosMasVendidos.xls', '08_06_2024ProductosMasVendidos.xls', '09_06_2024ProductosMasVendidos.xls', '10_06_2024ProductosMasVendidos.xls', '11_06_2024ProductosMasVendidos.xls', '12_06_2024ProductosMasVendidos.xls', '13_06_2024ProductosMasVendidos.xls', '14_06_2024ProductosMasVendidos.xls', '15_06_2024ProductosMasVendidos.xls', '16_06_2024ProductosMasVendidos.xls', '17_06_2024ProductosMasVendidos.xls', '18_06_2024ProductosMasVendidos.xls', '19_06_2024ProductosMasVendidos.xls', '20_06_2024ProductosMasVendidos.xls', '21_06_2024ProductosMasVendidos.xls', '22_06_2024ProductosMasVendidos.xls', '23_06_2024ProductosMasVendidos.xls', '24_06_2024ProductosMasVendidos.xls', '25_06_2024ProductosMasVendidos.xls', '26_06_2024ProductosMasVendidos.xls', '27_06_2024ProductosMasVendidos.xls', '28_06_2024ProductosMasVendidos.xls', '29_06_2024ProductosMasVendidos.xls', '30_06_2024ProductosMasVendidos.xls']\n",
      "Buscando archivos en C:/Users/david/Documents/Desarrollo/Datos2\\Marzo24\n",
      "['01_03_2024ProductosMasVendidos.xls', '02_03_2024ProductosMasVendidos.xls', '03_03_2024ProductosMasVendidos.xls', '04_03_2024ProductosMasVendidos.xls', '05_03_2024ProductosMasVendidos.xls', '06_03_2024ProductosMasVendidos.xls', '07_03_2024ProductosMasVendidos.xls', '08_03_2024ProductosMasVendidos.xls', '09_03_2024ProductosMasVendidos.xls', '10_03_2024ProductosMasVendidos.xls', '11_03_2024ProductosMasVendidos.xls', '12_03_2024ProductosMasVendidos.xls', '13_03_2024ProductosMasVendidos.xls', '14_03_2024ProductosMasVendidos.xls', '15_03_2024ProductosMasVendidos.xls', '16_03_2024ProductosMasVendidos.xls', '17_03_2024ProductosMasVendidos.xls', '18_03_2024ProductosMasVendidos.xls', '19_03_2024ProductosMasVendidos.xls', '20_03_2024ProductosMasVendidos.xls', '21_03_2024ProductosMasVendidos.xls', '22_03_2024ProductosMasVendidos.xls', '23_03_2024ProductosMasVendidos.xls', '24_03_2024ProductosMasVendidos.xls', '25_03_2024ProductosMasVendidos.xls', '26_03_2024ProductosMasVendidos.xls', '27_03_2024ProductosMasVendidos.xls', '28_03_2024ProductosMasVendidos.xls', '29_03_2024ProductosMasVendidos.xls', '30_03_2024ProductosMasVendidos.xls', '31_03_2024ProductosMasVendidos.xls']\n",
      "Buscando archivos en C:/Users/david/Documents/Desarrollo/Datos2\\Mayo24\n",
      "['01_05_2024ProductosMasVendidos.xls', '02_05_2024ProductosMasVendidos.xls', '03_05_2024ProductosMasVendidos.xls', '04_05_2024ProductosMasVendidos.xls', '05_05_2024ProductosMasVendidos.xls', '06_05_2024ProductosMasVendidos.xls', '07_05_2024ProductosMasVendidos.xls', '08_05_2024ProductosMasVendidos.xls', '09_05_2024ProductosMasVendidos.xls', '10_05_2024ProductosMasVendidos.xls', '11_05_2024ProductosMasVendidos.xls', '12_05_2024ProductosMasVendidos.xls', '13_05_2024ProductosMasVendidos.xls', '14_05_2024ProductosMasVendidos.xls', '15_05_2024ProductosMasVendidos.xls', '16_05_2024ProductosMasVendidos.xls', '17_05_2024ProductosMasVendidos.xls', '18_05_2024ProductosMasVendidos.xls', '19_05_2024ProductosMasVendidos.xls', '20_05_2024ProductosMasVendidos.xls', '21_05_2024ProductosMasVendidos.xls', '22_05_2024ProductosMasVendidos.xls', '23_05_2024ProductosMasVendidos.xls', '24_05_2024ProductosMasVendidos.xls', '25_05_2024ProductosMasVendidos.xls', '26_05_2024ProductosMasVendidos.xls', '27_05_2024ProductosMasVendidos.xls', '28_05_2024ProductosMasVendidos.xls', '29_05_2024ProductosMasVendidos.xls', '30_05_2024ProductosMasVendidos.xls', '31_05_2024ProductosMasVendidos.xls']\n",
      "Buscando archivos en C:/Users/david/Documents/Desarrollo/Datos2\\Noviembre24\n",
      "['01_11_2024ProductosMasVendidos.xls', '02_11_2024ProductosMasVendidos.xls', '03_11_2024ProductosMasVendidos.xls', '04_11_2024ProductosMasVendidos.xls', '05_11_2024ProductosMasVendidos.xls', '06_11_2024ProductosMasVendidos.xls', '07_11_2024ProductosMasVendidos.xls', '08_11_2024ProductosMasVendidos.xls', '09_11_2024ProductosMasVendidos.xls', '10_11_2024ProductosMasVendidos.xls', '11_11_2024ProductosMasVendidos.xls', '12_11_2024ProductosMasVendidos.xls', '13_11_2024ProductosMasVendidos.xls', '14_11_2024ProductosMasVendidos.xls', '15_11_2024ProductosMasVendidos.xls', '16_11_2024ProductosMasVendidos.xls', '17_11_2024ProductosMasVendidos.xls', '18_11_2024ProductosMasVendidos.xls', '19_11_2024ProductosMasVendidos.xls', '20_11_2024ProductosMasVendidos.xls', '21_11_2024ProductosMasVendidos.xls', '22_11_2024ProductosMasVendidos.xls', '23_11_2024ProductosMasVendidos.xls', '24_11_2024ProductosMasVendidos.xls', '25_11_2024ProductosMasVendidos.xls', '26_11_2024ProductosMasVendidos.xls', '27_11_2024ProductosMasVendidos.xls', '28_11_2024ProductosMasVendidos.xls', '29_11_2024ProductosMasVendidos.xls', '30_11_2024ProductosMasVendidos.xls']\n",
      "Buscando archivos en C:/Users/david/Documents/Desarrollo/Datos2\\Octubre24\n",
      "['01_10_2024ProductosMasVendidos.xls', '02_10_2024ProductosMasVendidos.xls', '03_10_2024ProductosMasVendidos.xls', '04_10_2024ProductosMasVendidos.xls', '05_10_2024ProductosMasVendidos.xls', '06_10_2024ProductosMasVendidos.xls', '07_10_2024ProductosMasVendidos.xls', '08_10_2024ProductosMasVendidos.xls', '09_10_2024ProductosMasVendidos.xls', '10_10_2024ProductosMasVendidos.xls', '11_10_2024ProductosMasVendidos.xls', '12_10_2024ProductosMasVendidos.xls', '13_10_2024ProductosMasVendidos.xls', '14_10_2024ProductosMasVendidos.xls', '15_10_2024ProductosMasVendidos.xls', '16_10_2024ProductosMasVendidos.xls', '17_10_2024ProductosMasVendidos.xls', '18_10_2024ProductosMasVendidos.xls', '19_10_2024ProductosMasVendidos.xls', '20_10_2024ProductosMasVendidos.xls', '21_10_2024ProductosMasVendidos.xls', '22_10_2024ProductosMasVendidos.xls', '23_10_2024ProductosMasVendidos.xls', '24_10_2024ProductosMasVendidos.xls', '25_10_2024ProductosMasVendidos.xls', '26_10_2024ProductosMasVendidos.xls', '27_10_2024ProductosMasVendidos.xls', '28_10_2024ProductosMasVendidos.xls', '29_10_2024ProductosMasVendidos.xls', '30_10_2024ProductosMasVendidos.xls', '31_10_2024ProductosMasVendidos.xls']\n",
      "Buscando archivos en C:/Users/david/Documents/Desarrollo/Datos2\\Septiembre24\n",
      "['01_09_2024ProductosMasVendidos.xls', '02_09_2024ProductosMasVendidos.xls', '03_09_2024ProductosMasVendidos.xls', '04_09_2024ProductosMasVendidos.xls', '05_09_2024ProductosMasVendidos.xls', '06_09_2024ProductosMasVendidos.xls', '07_09_2024ProductosMasVendidos.xls', '08_09_2024ProductosMasVendidos.xls', '09_09_2024ProductosMasVendidos.xls', '10_09_2024ProductosMasVendidos.xls', '11_09_2024ProductosMasVendidos.xls', '12_09_2024ProductosMasVendidos.xls', '13_09_2024ProductosMasVendidos.xls', '14_09_2024ProductosMasVendidos.xls', '15_09_2024ProductosMasVendidos.xls', '16_09_2024ProductosMasVendidos.xls', '17_09_2024ProductosMasVendidos.xls', '18_09_2024ProductosMasVendidos.xls', '19_09_2024ProductosMasVendidos.xls', '20_09_2024ProductosMasVendidos.xls', '21_09_2024ProductosMasVendidos.xls', '22_09_2024ProductosMasVendidos.xls', '23_09_2024ProductosMasVendidos.xls', '24_09_2024ProductosMasVendidos.xls', '25_09_2024ProductosMasVendidos.xls', '26_09_2024ProductosMasVendidos.xls', '27_09_2024ProductosMasVendidos.xls', '28_09_2024ProductosMasVendidos.xls', '29_09_2024ProductosMasVendidos.xls', '30_09_2024ProductosMasVendidos.xls']\n",
      "Se encontraron 366 archivos en total.\n",
      "esta es la lista de las fechas generadas: 366\n",
      "estos son los archivos totales: 366\n",
      "Todos los archivos generados están presentes en la lista de fechas.\n"
     ]
    }
   ],
   "source": [
    "def comparar_listas_existencia(lista_fechas, archivos_totales):\n",
    "    \n",
    "    return set(lista_fechas).issubset(archivos_totales)  # Eliminamos conversión redundante\n",
    "\n",
    "# Generar la lista de archivos esperados\n",
    "lista_fechas = generar_lista_fechas(datetime(2024, 1, 1), datetime(2024, 12, 31))\n",
    "\n",
    "# Obtener los archivos encontrados en la carpeta\n",
    "archivos_totales = obtener_archivos(\"C:/Users/david/Documents/Desarrollo/Datos2\")\n",
    "print(f\"esta es la lista de las fechas generadas: {len(lista_fechas)}\")\n",
    "print(f\"estos son los archivos totales: {len(archivos_totales)}\") # Imprime los archivos encontrados\n",
    "\n",
    "if not archivos_totales:\n",
    "    print(\"No se encontraron archivos en la ruta. Verifica que la carpeta no esté vacía o que los nombres sean correctos.\")\n",
    "elif comparar_listas_existencia(lista_fechas, archivos_totales):\n",
    "    print(\"Todos los archivos generados están presentes en la lista de fechas.\")\n",
    "else:\n",
    "    print(\"No todos los archivos generados están presentes en la lista de fechas.\")"
   ]
  },
  {
   "cell_type": "code",
   "execution_count": 15,
   "metadata": {},
   "outputs": [
    {
     "name": "stdout",
     "output_type": "stream",
     "text": [
      "['Abril24', 'Agosto24', 'Diciembre24', 'Enero24', 'Febrero24', 'Julio24', 'Junio24', 'Marzo24', 'Mayo24', 'Noviembre24', 'Octubre24', 'Septiembre24']\n"
     ]
    }
   ],
   "source": [
    "#obtener una lista de los nombres de las carpetas\n",
    "def listar_meses(ruta):\n",
    "    # Se retorna una lista de los nombres de las carpetas (meses) que existen en la ruta indicada\n",
    "    return [mes for mes in os.listdir(ruta) if os.path.isdir(os.path.join(ruta, mes))]\n",
    "print(listar_meses(ruta))"
   ]
  },
  {
   "cell_type": "code",
   "execution_count": 16,
   "metadata": {},
   "outputs": [],
   "source": [
    "#obtener una lista de todos los archivos que terminan con la extensión .xls\n",
    "def listar_archivos_xls(ruta_mes):\n",
    "    # Se retorna una lista de los archivos con extensión '.xls' dentro del directorio especificado\n",
    "    return [f for f in os.listdir(ruta_mes) if f.endswith('.xls')]"
   ]
  },
  {
   "cell_type": "code",
   "execution_count": 17,
   "metadata": {},
   "outputs": [],
   "source": [
    "#extraer la fecha de un nombre de archivo, asumiendo que la fecha está en formato dd_mm_yyyy\n",
    "def extraer_fecha_desde_nombre(archivo):  # Buscar una fecha con formato 'DD_MM_YYYY' dentro del nombre del archivo\n",
    "    match = re.search(r'(\\d{1,2}_\\d{1,2}_\\d{4})', archivo)\n",
    "    if match:\n",
    "        # Convertir la fecha extraída de texto a un objeto de fecha\n",
    "        return datetime.strptime(match.group(1), '%d_%m_%Y').date()\n",
    "    return None # Retornar None si no se encuentra una fecha válida"
   ]
  },
  {
   "cell_type": "code",
   "execution_count": 18,
   "metadata": {},
   "outputs": [],
   "source": [
    "#leer un archivo Excel, realizar algunas transformaciones en los datos y devolver un DataFrame con la información procesada\n",
    "def procesar_archivo_excel(ruta_archivo, fecha_reporte):\n",
    "    try:\n",
    "        # Cargar el archivo Excel, omitiendo las primeras 3 filas y seleccionando columnas específicas\n",
    "        df = pd.read_excel(ruta_archivo, skiprows=3, usecols=[4, 5, 6, 7])\n",
    "        # Verificar si el DataFrame está vacío\n",
    "        if df.empty:\n",
    "            print(f\"El archivo {os.path.basename(ruta_archivo)} está vacío.\")\n",
    "            return None\n",
    "        \n",
    "        # Agregar la fecha de reporte como una nueva columna\n",
    "        df['Fecha'] = fecha_reporte\n",
    "        \n",
    "        #print(df)\n",
    "        \n",
    "        # Reorganizar las columnas para que la fecha sea la última\n",
    "        columnas = list(df.columns) # Obtener la lista de nombres de columnas\n",
    "        columnas.append(columnas.pop(columnas.index('Fecha'))) # Mover la columna 'Fecha' al final\n",
    "        #print(df[columnas])\n",
    "        #print(ruta_archivo)\n",
    "        \n",
    "        return df[columnas]# Retornar el DataFrame reorganizado\n",
    "\n",
    "        \n",
    "    except Exception as e:\n",
    "        # Capturar y mostrar cualquier error que ocurra durante el procesamiento\n",
    "        print(f\"Error al procesar el archivo {os.path.basename(ruta_archivo)}: {e}\")"
   ]
  },
  {
   "cell_type": "code",
   "execution_count": 19,
   "metadata": {},
   "outputs": [
    {
     "name": "stdout",
     "output_type": "stream",
     "text": [
      "Procesando mes: Abril24\n",
      "Procesando mes: Agosto24\n",
      "Procesando mes: Diciembre24\n",
      "El archivo 25_12_2024ProductosMasVendidos.xls está vacío.\n",
      "Procesando mes: Enero24\n",
      "El archivo 01_01_2024ProductosMasVendidos.xls está vacío.\n",
      "Procesando mes: Febrero24\n",
      "Procesando mes: Julio24\n",
      "Procesando mes: Junio24\n",
      "Procesando mes: Marzo24\n",
      "Procesando mes: Mayo24\n",
      "El archivo 01_05_2024ProductosMasVendidos.xls está vacío.\n",
      "Procesando mes: Noviembre24\n",
      "Procesando mes: Octubre24\n",
      "Procesando mes: Septiembre24\n"
     ]
    }
   ],
   "source": [
    "#reunir y procesar todos los archivos Excel (.xls) que se encuentran dentro de una estructura de carpetas organizadas por meses.\n",
    "def recoleccion_archivos(ruta):\n",
    "\n",
    "    dataframes = []  # Lista donde se almacenarán los DataFrames procesados\n",
    "    \n",
    "    # Iteramos sobre las carpetas de los meses dentro de la ruta base\n",
    "    for mes in listar_meses(ruta):\n",
    "        ruta_mes = os.path.join(ruta, mes)  # Construimos la ruta de la carpeta del mes\n",
    "        print(f\"Procesando mes: {mes}\")  # Mensaje informativo\n",
    "        \n",
    "        # Iteramos sobre los archivos Excel dentro de la carpeta del mes\n",
    "        for archivo in listar_archivos_xls(ruta_mes):\n",
    "            #print(f\"Procesando archivo: {archivo}\")  # Mensaje informativo\n",
    "            fecha_reporte = extraer_fecha_desde_nombre(archivo)  # Extraemos la fecha desde el nombre del archivo\n",
    "            \n",
    "            if fecha_reporte:  # Verificamos si la fecha fue extraída correctamente\n",
    "                # Procesamos el archivo Excel y obtenemos un DataFrame\n",
    "                df = procesar_archivo_excel(os.path.join(ruta_mes, archivo), fecha_reporte)\n",
    "                \n",
    "                if df is not None:  # Verificamos si el DataFrame se generó correctamente\n",
    "                    dataframes.append(df)  # Agregamos el DataFrame a la lista\n",
    "            else:\n",
    "                print(f\"No se encontró una fecha válida en el nombre del archivo '{archivo}'\")  # Mensaje de advertencia \n",
    "    \n",
    "    return dataframes  # Retornamos la lista de DataFrames procesados)\n",
    "\n",
    "# Definir la ruta base\n",
    "ruta = \"C:/Users/david/Documents/Desarrollo/Datos2\"\n",
    "\n",
    "# Llamar a la función principal para recolectar y procesar los archivos Excel\n",
    "df_anual = recoleccion_archivos(ruta)"
   ]
  },
  {
   "cell_type": "code",
   "execution_count": 20,
   "metadata": {},
   "outputs": [
    {
     "ename": "PermissionError",
     "evalue": "[Errno 13] Permission denied: 'C:/Users/david/Documents/Desarrollo/Datos2/reporte_anual.csv'",
     "output_type": "error",
     "traceback": [
      "\u001b[1;31m---------------------------------------------------------------------------\u001b[0m",
      "\u001b[1;31mPermissionError\u001b[0m                           Traceback (most recent call last)",
      "Cell \u001b[1;32mIn[20], line 18\u001b[0m\n\u001b[0;32m     15\u001b[0m ruta_salida \u001b[38;5;241m=\u001b[39m \u001b[38;5;124m\"\u001b[39m\u001b[38;5;124mC:/Users/david/Documents/Desarrollo/Datos2/reporte_anual.csv\u001b[39m\u001b[38;5;124m\"\u001b[39m\n\u001b[0;32m     17\u001b[0m \u001b[38;5;66;03m# Llamar a la función para guardar el DataFrame\u001b[39;00m\n\u001b[1;32m---> 18\u001b[0m \u001b[43mguardar_dataframe_csv\u001b[49m\u001b[43m(\u001b[49m\u001b[43mdf_anual\u001b[49m\u001b[43m,\u001b[49m\u001b[43m \u001b[49m\u001b[43mruta_salida\u001b[49m\u001b[43m)\u001b[49m\n",
      "Cell \u001b[1;32mIn[20], line 11\u001b[0m, in \u001b[0;36mguardar_dataframe_csv\u001b[1;34m(dataframes, ruta_salida)\u001b[0m\n\u001b[0;32m      8\u001b[0m df_consolidado \u001b[38;5;241m=\u001b[39m pd\u001b[38;5;241m.\u001b[39mconcat(dataframes, ignore_index\u001b[38;5;241m=\u001b[39m\u001b[38;5;28;01mTrue\u001b[39;00m)\n\u001b[0;32m     10\u001b[0m \u001b[38;5;66;03m# Guardar en formato CSV\u001b[39;00m\n\u001b[1;32m---> 11\u001b[0m \u001b[43mdf_consolidado\u001b[49m\u001b[38;5;241;43m.\u001b[39;49m\u001b[43mto_csv\u001b[49m\u001b[43m(\u001b[49m\u001b[43mruta_salida\u001b[49m\u001b[43m,\u001b[49m\u001b[43m \u001b[49m\u001b[43mindex\u001b[49m\u001b[38;5;241;43m=\u001b[39;49m\u001b[38;5;28;43;01mFalse\u001b[39;49;00m\u001b[43m,\u001b[49m\u001b[43m \u001b[49m\u001b[43mencoding\u001b[49m\u001b[38;5;241;43m=\u001b[39;49m\u001b[38;5;124;43m'\u001b[39;49m\u001b[38;5;124;43mutf-8-sig\u001b[39;49m\u001b[38;5;124;43m'\u001b[39;49m\u001b[43m)\u001b[49m\n\u001b[0;32m     12\u001b[0m \u001b[38;5;28mprint\u001b[39m(\u001b[38;5;124mf\u001b[39m\u001b[38;5;124m\"\u001b[39m\u001b[38;5;124mArchivo CSV guardado\u001b[39m\u001b[38;5;124m\"\u001b[39m)\n",
      "File \u001b[1;32m~\\AppData\\Local\\Packages\\PythonSoftwareFoundation.Python.3.12_qbz5n2kfra8p0\\LocalCache\\local-packages\\Python312\\site-packages\\pandas\\util\\_decorators.py:333\u001b[0m, in \u001b[0;36mdeprecate_nonkeyword_arguments.<locals>.decorate.<locals>.wrapper\u001b[1;34m(*args, **kwargs)\u001b[0m\n\u001b[0;32m    327\u001b[0m \u001b[38;5;28;01mif\u001b[39;00m \u001b[38;5;28mlen\u001b[39m(args) \u001b[38;5;241m>\u001b[39m num_allow_args:\n\u001b[0;32m    328\u001b[0m     warnings\u001b[38;5;241m.\u001b[39mwarn(\n\u001b[0;32m    329\u001b[0m         msg\u001b[38;5;241m.\u001b[39mformat(arguments\u001b[38;5;241m=\u001b[39m_format_argument_list(allow_args)),\n\u001b[0;32m    330\u001b[0m         \u001b[38;5;167;01mFutureWarning\u001b[39;00m,\n\u001b[0;32m    331\u001b[0m         stacklevel\u001b[38;5;241m=\u001b[39mfind_stack_level(),\n\u001b[0;32m    332\u001b[0m     )\n\u001b[1;32m--> 333\u001b[0m \u001b[38;5;28;01mreturn\u001b[39;00m \u001b[43mfunc\u001b[49m\u001b[43m(\u001b[49m\u001b[38;5;241;43m*\u001b[39;49m\u001b[43margs\u001b[49m\u001b[43m,\u001b[49m\u001b[43m \u001b[49m\u001b[38;5;241;43m*\u001b[39;49m\u001b[38;5;241;43m*\u001b[39;49m\u001b[43mkwargs\u001b[49m\u001b[43m)\u001b[49m\n",
      "File \u001b[1;32m~\\AppData\\Local\\Packages\\PythonSoftwareFoundation.Python.3.12_qbz5n2kfra8p0\\LocalCache\\local-packages\\Python312\\site-packages\\pandas\\core\\generic.py:3967\u001b[0m, in \u001b[0;36mNDFrame.to_csv\u001b[1;34m(self, path_or_buf, sep, na_rep, float_format, columns, header, index, index_label, mode, encoding, compression, quoting, quotechar, lineterminator, chunksize, date_format, doublequote, escapechar, decimal, errors, storage_options)\u001b[0m\n\u001b[0;32m   3956\u001b[0m df \u001b[38;5;241m=\u001b[39m \u001b[38;5;28mself\u001b[39m \u001b[38;5;28;01mif\u001b[39;00m \u001b[38;5;28misinstance\u001b[39m(\u001b[38;5;28mself\u001b[39m, ABCDataFrame) \u001b[38;5;28;01melse\u001b[39;00m \u001b[38;5;28mself\u001b[39m\u001b[38;5;241m.\u001b[39mto_frame()\n\u001b[0;32m   3958\u001b[0m formatter \u001b[38;5;241m=\u001b[39m DataFrameFormatter(\n\u001b[0;32m   3959\u001b[0m     frame\u001b[38;5;241m=\u001b[39mdf,\n\u001b[0;32m   3960\u001b[0m     header\u001b[38;5;241m=\u001b[39mheader,\n\u001b[1;32m   (...)\u001b[0m\n\u001b[0;32m   3964\u001b[0m     decimal\u001b[38;5;241m=\u001b[39mdecimal,\n\u001b[0;32m   3965\u001b[0m )\n\u001b[1;32m-> 3967\u001b[0m \u001b[38;5;28;01mreturn\u001b[39;00m \u001b[43mDataFrameRenderer\u001b[49m\u001b[43m(\u001b[49m\u001b[43mformatter\u001b[49m\u001b[43m)\u001b[49m\u001b[38;5;241;43m.\u001b[39;49m\u001b[43mto_csv\u001b[49m\u001b[43m(\u001b[49m\n\u001b[0;32m   3968\u001b[0m \u001b[43m    \u001b[49m\u001b[43mpath_or_buf\u001b[49m\u001b[43m,\u001b[49m\n\u001b[0;32m   3969\u001b[0m \u001b[43m    \u001b[49m\u001b[43mlineterminator\u001b[49m\u001b[38;5;241;43m=\u001b[39;49m\u001b[43mlineterminator\u001b[49m\u001b[43m,\u001b[49m\n\u001b[0;32m   3970\u001b[0m \u001b[43m    \u001b[49m\u001b[43msep\u001b[49m\u001b[38;5;241;43m=\u001b[39;49m\u001b[43msep\u001b[49m\u001b[43m,\u001b[49m\n\u001b[0;32m   3971\u001b[0m \u001b[43m    \u001b[49m\u001b[43mencoding\u001b[49m\u001b[38;5;241;43m=\u001b[39;49m\u001b[43mencoding\u001b[49m\u001b[43m,\u001b[49m\n\u001b[0;32m   3972\u001b[0m \u001b[43m    \u001b[49m\u001b[43merrors\u001b[49m\u001b[38;5;241;43m=\u001b[39;49m\u001b[43merrors\u001b[49m\u001b[43m,\u001b[49m\n\u001b[0;32m   3973\u001b[0m \u001b[43m    \u001b[49m\u001b[43mcompression\u001b[49m\u001b[38;5;241;43m=\u001b[39;49m\u001b[43mcompression\u001b[49m\u001b[43m,\u001b[49m\n\u001b[0;32m   3974\u001b[0m \u001b[43m    \u001b[49m\u001b[43mquoting\u001b[49m\u001b[38;5;241;43m=\u001b[39;49m\u001b[43mquoting\u001b[49m\u001b[43m,\u001b[49m\n\u001b[0;32m   3975\u001b[0m \u001b[43m    \u001b[49m\u001b[43mcolumns\u001b[49m\u001b[38;5;241;43m=\u001b[39;49m\u001b[43mcolumns\u001b[49m\u001b[43m,\u001b[49m\n\u001b[0;32m   3976\u001b[0m \u001b[43m    \u001b[49m\u001b[43mindex_label\u001b[49m\u001b[38;5;241;43m=\u001b[39;49m\u001b[43mindex_label\u001b[49m\u001b[43m,\u001b[49m\n\u001b[0;32m   3977\u001b[0m \u001b[43m    \u001b[49m\u001b[43mmode\u001b[49m\u001b[38;5;241;43m=\u001b[39;49m\u001b[43mmode\u001b[49m\u001b[43m,\u001b[49m\n\u001b[0;32m   3978\u001b[0m \u001b[43m    \u001b[49m\u001b[43mchunksize\u001b[49m\u001b[38;5;241;43m=\u001b[39;49m\u001b[43mchunksize\u001b[49m\u001b[43m,\u001b[49m\n\u001b[0;32m   3979\u001b[0m \u001b[43m    \u001b[49m\u001b[43mquotechar\u001b[49m\u001b[38;5;241;43m=\u001b[39;49m\u001b[43mquotechar\u001b[49m\u001b[43m,\u001b[49m\n\u001b[0;32m   3980\u001b[0m \u001b[43m    \u001b[49m\u001b[43mdate_format\u001b[49m\u001b[38;5;241;43m=\u001b[39;49m\u001b[43mdate_format\u001b[49m\u001b[43m,\u001b[49m\n\u001b[0;32m   3981\u001b[0m \u001b[43m    \u001b[49m\u001b[43mdoublequote\u001b[49m\u001b[38;5;241;43m=\u001b[39;49m\u001b[43mdoublequote\u001b[49m\u001b[43m,\u001b[49m\n\u001b[0;32m   3982\u001b[0m \u001b[43m    \u001b[49m\u001b[43mescapechar\u001b[49m\u001b[38;5;241;43m=\u001b[39;49m\u001b[43mescapechar\u001b[49m\u001b[43m,\u001b[49m\n\u001b[0;32m   3983\u001b[0m \u001b[43m    \u001b[49m\u001b[43mstorage_options\u001b[49m\u001b[38;5;241;43m=\u001b[39;49m\u001b[43mstorage_options\u001b[49m\u001b[43m,\u001b[49m\n\u001b[0;32m   3984\u001b[0m \u001b[43m\u001b[49m\u001b[43m)\u001b[49m\n",
      "File \u001b[1;32m~\\AppData\\Local\\Packages\\PythonSoftwareFoundation.Python.3.12_qbz5n2kfra8p0\\LocalCache\\local-packages\\Python312\\site-packages\\pandas\\io\\formats\\format.py:1014\u001b[0m, in \u001b[0;36mDataFrameRenderer.to_csv\u001b[1;34m(self, path_or_buf, encoding, sep, columns, index_label, mode, compression, quoting, quotechar, lineterminator, chunksize, date_format, doublequote, escapechar, errors, storage_options)\u001b[0m\n\u001b[0;32m    993\u001b[0m     created_buffer \u001b[38;5;241m=\u001b[39m \u001b[38;5;28;01mFalse\u001b[39;00m\n\u001b[0;32m    995\u001b[0m csv_formatter \u001b[38;5;241m=\u001b[39m CSVFormatter(\n\u001b[0;32m    996\u001b[0m     path_or_buf\u001b[38;5;241m=\u001b[39mpath_or_buf,\n\u001b[0;32m    997\u001b[0m     lineterminator\u001b[38;5;241m=\u001b[39mlineterminator,\n\u001b[1;32m   (...)\u001b[0m\n\u001b[0;32m   1012\u001b[0m     formatter\u001b[38;5;241m=\u001b[39m\u001b[38;5;28mself\u001b[39m\u001b[38;5;241m.\u001b[39mfmt,\n\u001b[0;32m   1013\u001b[0m )\n\u001b[1;32m-> 1014\u001b[0m \u001b[43mcsv_formatter\u001b[49m\u001b[38;5;241;43m.\u001b[39;49m\u001b[43msave\u001b[49m\u001b[43m(\u001b[49m\u001b[43m)\u001b[49m\n\u001b[0;32m   1016\u001b[0m \u001b[38;5;28;01mif\u001b[39;00m created_buffer:\n\u001b[0;32m   1017\u001b[0m     \u001b[38;5;28;01massert\u001b[39;00m \u001b[38;5;28misinstance\u001b[39m(path_or_buf, StringIO)\n",
      "File \u001b[1;32m~\\AppData\\Local\\Packages\\PythonSoftwareFoundation.Python.3.12_qbz5n2kfra8p0\\LocalCache\\local-packages\\Python312\\site-packages\\pandas\\io\\formats\\csvs.py:251\u001b[0m, in \u001b[0;36mCSVFormatter.save\u001b[1;34m(self)\u001b[0m\n\u001b[0;32m    247\u001b[0m \u001b[38;5;250m\u001b[39m\u001b[38;5;124;03m\"\"\"\u001b[39;00m\n\u001b[0;32m    248\u001b[0m \u001b[38;5;124;03mCreate the writer & save.\u001b[39;00m\n\u001b[0;32m    249\u001b[0m \u001b[38;5;124;03m\"\"\"\u001b[39;00m\n\u001b[0;32m    250\u001b[0m \u001b[38;5;66;03m# apply compression and byte/text conversion\u001b[39;00m\n\u001b[1;32m--> 251\u001b[0m \u001b[38;5;28;01mwith\u001b[39;00m \u001b[43mget_handle\u001b[49m\u001b[43m(\u001b[49m\n\u001b[0;32m    252\u001b[0m \u001b[43m    \u001b[49m\u001b[38;5;28;43mself\u001b[39;49m\u001b[38;5;241;43m.\u001b[39;49m\u001b[43mfilepath_or_buffer\u001b[49m\u001b[43m,\u001b[49m\n\u001b[0;32m    253\u001b[0m \u001b[43m    \u001b[49m\u001b[38;5;28;43mself\u001b[39;49m\u001b[38;5;241;43m.\u001b[39;49m\u001b[43mmode\u001b[49m\u001b[43m,\u001b[49m\n\u001b[0;32m    254\u001b[0m \u001b[43m    \u001b[49m\u001b[43mencoding\u001b[49m\u001b[38;5;241;43m=\u001b[39;49m\u001b[38;5;28;43mself\u001b[39;49m\u001b[38;5;241;43m.\u001b[39;49m\u001b[43mencoding\u001b[49m\u001b[43m,\u001b[49m\n\u001b[0;32m    255\u001b[0m \u001b[43m    \u001b[49m\u001b[43merrors\u001b[49m\u001b[38;5;241;43m=\u001b[39;49m\u001b[38;5;28;43mself\u001b[39;49m\u001b[38;5;241;43m.\u001b[39;49m\u001b[43merrors\u001b[49m\u001b[43m,\u001b[49m\n\u001b[0;32m    256\u001b[0m \u001b[43m    \u001b[49m\u001b[43mcompression\u001b[49m\u001b[38;5;241;43m=\u001b[39;49m\u001b[38;5;28;43mself\u001b[39;49m\u001b[38;5;241;43m.\u001b[39;49m\u001b[43mcompression\u001b[49m\u001b[43m,\u001b[49m\n\u001b[0;32m    257\u001b[0m \u001b[43m    \u001b[49m\u001b[43mstorage_options\u001b[49m\u001b[38;5;241;43m=\u001b[39;49m\u001b[38;5;28;43mself\u001b[39;49m\u001b[38;5;241;43m.\u001b[39;49m\u001b[43mstorage_options\u001b[49m\u001b[43m,\u001b[49m\n\u001b[0;32m    258\u001b[0m \u001b[43m\u001b[49m\u001b[43m)\u001b[49m \u001b[38;5;28;01mas\u001b[39;00m handles:\n\u001b[0;32m    259\u001b[0m     \u001b[38;5;66;03m# Note: self.encoding is irrelevant here\u001b[39;00m\n\u001b[0;32m    260\u001b[0m     \u001b[38;5;28mself\u001b[39m\u001b[38;5;241m.\u001b[39mwriter \u001b[38;5;241m=\u001b[39m csvlib\u001b[38;5;241m.\u001b[39mwriter(\n\u001b[0;32m    261\u001b[0m         handles\u001b[38;5;241m.\u001b[39mhandle,\n\u001b[0;32m    262\u001b[0m         lineterminator\u001b[38;5;241m=\u001b[39m\u001b[38;5;28mself\u001b[39m\u001b[38;5;241m.\u001b[39mlineterminator,\n\u001b[1;32m   (...)\u001b[0m\n\u001b[0;32m    267\u001b[0m         quotechar\u001b[38;5;241m=\u001b[39m\u001b[38;5;28mself\u001b[39m\u001b[38;5;241m.\u001b[39mquotechar,\n\u001b[0;32m    268\u001b[0m     )\n\u001b[0;32m    270\u001b[0m     \u001b[38;5;28mself\u001b[39m\u001b[38;5;241m.\u001b[39m_save()\n",
      "File \u001b[1;32m~\\AppData\\Local\\Packages\\PythonSoftwareFoundation.Python.3.12_qbz5n2kfra8p0\\LocalCache\\local-packages\\Python312\\site-packages\\pandas\\io\\common.py:873\u001b[0m, in \u001b[0;36mget_handle\u001b[1;34m(path_or_buf, mode, encoding, compression, memory_map, is_text, errors, storage_options)\u001b[0m\n\u001b[0;32m    868\u001b[0m \u001b[38;5;28;01melif\u001b[39;00m \u001b[38;5;28misinstance\u001b[39m(handle, \u001b[38;5;28mstr\u001b[39m):\n\u001b[0;32m    869\u001b[0m     \u001b[38;5;66;03m# Check whether the filename is to be opened in binary mode.\u001b[39;00m\n\u001b[0;32m    870\u001b[0m     \u001b[38;5;66;03m# Binary mode does not support 'encoding' and 'newline'.\u001b[39;00m\n\u001b[0;32m    871\u001b[0m     \u001b[38;5;28;01mif\u001b[39;00m ioargs\u001b[38;5;241m.\u001b[39mencoding \u001b[38;5;129;01mand\u001b[39;00m \u001b[38;5;124m\"\u001b[39m\u001b[38;5;124mb\u001b[39m\u001b[38;5;124m\"\u001b[39m \u001b[38;5;129;01mnot\u001b[39;00m \u001b[38;5;129;01min\u001b[39;00m ioargs\u001b[38;5;241m.\u001b[39mmode:\n\u001b[0;32m    872\u001b[0m         \u001b[38;5;66;03m# Encoding\u001b[39;00m\n\u001b[1;32m--> 873\u001b[0m         handle \u001b[38;5;241m=\u001b[39m \u001b[38;5;28;43mopen\u001b[39;49m\u001b[43m(\u001b[49m\n\u001b[0;32m    874\u001b[0m \u001b[43m            \u001b[49m\u001b[43mhandle\u001b[49m\u001b[43m,\u001b[49m\n\u001b[0;32m    875\u001b[0m \u001b[43m            \u001b[49m\u001b[43mioargs\u001b[49m\u001b[38;5;241;43m.\u001b[39;49m\u001b[43mmode\u001b[49m\u001b[43m,\u001b[49m\n\u001b[0;32m    876\u001b[0m \u001b[43m            \u001b[49m\u001b[43mencoding\u001b[49m\u001b[38;5;241;43m=\u001b[39;49m\u001b[43mioargs\u001b[49m\u001b[38;5;241;43m.\u001b[39;49m\u001b[43mencoding\u001b[49m\u001b[43m,\u001b[49m\n\u001b[0;32m    877\u001b[0m \u001b[43m            \u001b[49m\u001b[43merrors\u001b[49m\u001b[38;5;241;43m=\u001b[39;49m\u001b[43merrors\u001b[49m\u001b[43m,\u001b[49m\n\u001b[0;32m    878\u001b[0m \u001b[43m            \u001b[49m\u001b[43mnewline\u001b[49m\u001b[38;5;241;43m=\u001b[39;49m\u001b[38;5;124;43m\"\u001b[39;49m\u001b[38;5;124;43m\"\u001b[39;49m\u001b[43m,\u001b[49m\n\u001b[0;32m    879\u001b[0m \u001b[43m        \u001b[49m\u001b[43m)\u001b[49m\n\u001b[0;32m    880\u001b[0m     \u001b[38;5;28;01melse\u001b[39;00m:\n\u001b[0;32m    881\u001b[0m         \u001b[38;5;66;03m# Binary mode\u001b[39;00m\n\u001b[0;32m    882\u001b[0m         handle \u001b[38;5;241m=\u001b[39m \u001b[38;5;28mopen\u001b[39m(handle, ioargs\u001b[38;5;241m.\u001b[39mmode)\n",
      "\u001b[1;31mPermissionError\u001b[0m: [Errno 13] Permission denied: 'C:/Users/david/Documents/Desarrollo/Datos2/reporte_anual.csv'"
     ]
    }
   ],
   "source": [
    "def guardar_dataframe_csv(dataframes, ruta_salida):\n",
    "    \n",
    "    if not dataframes:\n",
    "        print(\"No hay datos para guardar en el archivo CSV.\")\n",
    "        return\n",
    "\n",
    "    # Concatenar todos los DataFrames en uno solo\n",
    "    df_consolidado = pd.concat(dataframes, ignore_index=True)\n",
    "\n",
    "    # Guardar en formato CSV\n",
    "    df_consolidado.to_csv(ruta_salida, index=False, encoding='utf-8-sig')\n",
    "    print(f\"Archivo CSV guardado\")\n",
    "\n",
    "# Definir la ruta de salida del archivo CSV\n",
    "ruta_salida = \"C:/Users/david/Documents/Desarrollo/Datos2/reporte_anual.csv\"\n",
    "\n",
    "# Llamar a la función para guardar el DataFrame\n",
    "guardar_dataframe_csv(df_anual, ruta_salida)\n"
   ]
  },
  {
   "cell_type": "code",
   "execution_count": null,
   "metadata": {},
   "outputs": [],
   "source": [
    "#Sacar graficas con el dataFrame que tengo de un año, los 5 productos mas vendidos,ver como se comportan y revisar otras graficas "
   ]
  }
 ],
 "metadata": {
  "kernelspec": {
   "display_name": "Python 3",
   "language": "python",
   "name": "python3"
  },
  "language_info": {
   "codemirror_mode": {
    "name": "ipython",
    "version": 3
   },
   "file_extension": ".py",
   "mimetype": "text/x-python",
   "name": "python",
   "nbconvert_exporter": "python",
   "pygments_lexer": "ipython3",
   "version": "3.12.10"
  }
 },
 "nbformat": 4,
 "nbformat_minor": 2
}
