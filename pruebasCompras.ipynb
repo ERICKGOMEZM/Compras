{
 "cells": [
  {
   "cell_type": "code",
   "execution_count": 1,
   "metadata": {},
   "outputs": [],
   "source": [
    "import pandas as pd\n",
    "from datetime import datetime, timedelta #datetime opera fechas con +,-, mayor qué, menor qué. Timedelta le ayuda a sumar o restar días a una fecha\n",
    "import os\n",
    "import re\n",
    "import matplotlib.pyplot as plt #librería para graficar "
   ]
  },
  {
   "cell_type": "code",
   "execution_count": 5,
   "metadata": {},
   "outputs": [
    {
     "name": "stdout",
     "output_type": "stream",
     "text": [
      "Fechas de inicio y fin definidas.\n",
      "Fecha de inicio: 2024-01-01 00:00:00\n",
      "Fecha de fin: 2024-12-31 00:00:00\n"
     ]
    }
   ],
   "source": [
    "def generar_lista_fechas(fecha_inicio, fecha_fin):\n",
    "    \n",
    "\n",
    "    lista_archivos = []  # Crea lista vacía para almacenar los nombres de los archivos\n",
    "    aux = fecha_inicio  # Crea variable auxiliar para recorrer las fechas\n",
    "    \n",
    "    while aux <= fecha_fin:\n",
    "        file = aux.strftime(\"%d_%m_%Y\") + \"ProductosMasVendidos.xls\"\n",
    "        lista_archivos.append(file)  # Coloca file al final de la lista\n",
    "        aux += timedelta(days=1)  # Recorre la fecha un día hacia adelante\n",
    "\n",
    "    # Revisamos si la lista está vacía\n",
    "    if len(lista_archivos) == 0:\n",
    "        print(\"No se generaron nombres de archivos\")\n",
    "    else:\n",
    "        #print(f\"Se generaron los siguientes {len(lista_archivos)} nombres de archivos:\")\n",
    "        for archivo in lista_archivos:\n",
    "            #print(archivo)\n",
    "            pass\n",
    "\n",
    "    return lista_archivos\n",
    "\n",
    "# Definir las fechas de inicio y fin\n",
    "fecha_inicio = datetime(2024, 1, 1)\n",
    "fecha_fin = datetime(2024, 12, 31)\n",
    "print(\"Fechas de inicio y fin definidas.\")\n",
    "print(f\"Fecha de inicio: {fecha_inicio}\")\n",
    "print(f\"Fecha de fin: {fecha_fin}\")\n",
    "# Llamar a la función y obtener la lista de archivos\n",
    "lista_archivos = generar_lista_fechas(fecha_inicio, fecha_fin)"
   ]
  },
  {
   "cell_type": "code",
   "execution_count": 6,
   "metadata": {},
   "outputs": [],
   "source": [
    "def obtener_archivos(ruta):\n",
    "    archivos_anuales = [] # Lista donde se almacenarán los archivos encontrados\n",
    "    \n",
    "    # Expresión regular para validar que los archivos tengan el formato correcto\n",
    "    patron = re.compile(r\"^\\d{2}_\\d{2}_\\d{4}ProductosMasVendidos\\.xls$\")  # Patrón para validar el nombre de archivo\n",
    "\n",
    "    # Recorre todas las carpetas dentro de la ruta base (cada carpeta representa un mes)\n",
    "    for mes in os.listdir(ruta):\n",
    "        ruta_mes = os.path.join(ruta, mes) # Construye la ruta completa de la carpeta del mes\n",
    "\n",
    "        # Verifica si es un directorio antes de procesarlo\n",
    "        if os.path.isdir(ruta_mes):\n",
    "            \n",
    "            # Filtra los archivos de la carpeta del mes que cumplen con el patrón definido\n",
    "            archivos_mes = [f for f in os.listdir(ruta_mes) if patron.match(f)]\n",
    "            archivos_anuales.extend(archivos_mes)  # Agrega los archivos encontrados a la lista total \n",
    "\n",
    "    #print(f\"Se encontraron {len(archivos_anuales)} archivos en total.\")\n",
    "    return archivos_anuales\n",
    "\n",
    "# ruta donde están las carpetas de cada mes\n",
    "ruta = \"C:/Users/david/Documents/Desarrollo/Datos2\"\n",
    "\n",
    "# Llamar a la función\n",
    "archivos_totales = obtener_archivos(ruta)"
   ]
  },
  {
   "cell_type": "code",
   "execution_count": 7,
   "metadata": {},
   "outputs": [
    {
     "name": "stdout",
     "output_type": "stream",
     "text": [
      "Todos los archivos generados están presentes en la lista de fechas.\n"
     ]
    }
   ],
   "source": [
    "def comparar_listas_existencia(lista_fechas, archivos_totales):\n",
    "    \n",
    "    return set(lista_fechas).issubset(archivos_totales)  # Eliminamos conversión redundante\n",
    "\n",
    "# Generar la lista de archivos esperados\n",
    "lista_fechas = generar_lista_fechas(datetime(2024, 1, 1), datetime(2024, 12, 31))\n",
    "\n",
    "# Obtener los archivos encontrados en la carpeta\n",
    "archivos_totales = obtener_archivos(\"C:/Users/david/Documents/Desarrollo/Datos2\")\n",
    "\n",
    "if not archivos_totales:\n",
    "    print(\"No se encontraron archivos en la ruta. Verifica que la carpeta no esté vacía o que los nombres sean correctos.\")\n",
    "elif comparar_listas_existencia(lista_fechas, archivos_totales):\n",
    "    print(\"Todos los archivos generados están presentes en la lista de fechas.\")\n",
    "else:\n",
    "    print(\"No todos los archivos generados están presentes en la lista de fechas.\")\n"
   ]
  },
  {
   "cell_type": "code",
   "execution_count": 8,
   "metadata": {},
   "outputs": [
    {
     "name": "stdout",
     "output_type": "stream",
     "text": [
      "Abril24\n",
      "Agosto24\n",
      "Diciembre24\n",
      "El archivo 25_12_2024ProductosMasVendidos.xls está vacío.\n",
      "Enero24\n",
      "El archivo 01_01_2024ProductosMasVendidos.xls está vacío.\n",
      "Febrero24\n",
      "Julio24\n",
      "Junio24\n",
      "Marzo24\n",
      "Mayo24\n",
      "El archivo 01_05_2024ProductosMasVendidos.xls está vacío.\n",
      "Noviembre24\n",
      "Octubre24\n",
      "reporte_anual.csv\n",
      "Septiembre24\n"
     ]
    }
   ],
   "source": [
    "def recoleccion_archivos(ruta):\n",
    "    dataframes = []  # Lista para almacenar los DataFrames de cada archivo\n",
    "\n",
    "    # Recorrer cada carpeta de los meses dentro de la ruta base\n",
    "    for mes in os.listdir(ruta):\n",
    "        ruta_mes = os.path.join(ruta, mes)\n",
    "        print(mes)\n",
    "\n",
    "        if os.path.isdir(ruta_mes):  # Verificar que sea una carpeta\n",
    "            archivos = [f for f in os.listdir(ruta_mes) if f.endswith('.xls')]\n",
    "\n",
    "            for archivo in archivos:\n",
    "                # Intentamos procesar el archivo Excel\n",
    "                try:\n",
    "                    #print(f\"Procesando el archivo: {archivo}\")\n",
    "                    # Leer el archivo de Excel, omitiendo las 3 primeras filas y seleccionando columnas específicas\n",
    "                    df = pd.read_excel(os.path.join(ruta_mes, archivo), skiprows=3, usecols=[4, 5, 6, 7])\n",
    "\n",
    "                    # Extraer la fecha del nombre del archivo usando una expresión regular\n",
    "                    match = re.search(r'(\\d{1,2}_\\d{1,2}_\\d{4})', archivo)\n",
    "\n",
    "                    if match:\n",
    "                        fecha_str = match.group(1)\n",
    "                        fecha_reporte = datetime.strptime(fecha_str, '%d_%m_%Y').date()\n",
    "\n",
    "                        if df.empty:\n",
    "                            print(f\"El archivo {archivo} está vacío.\")\n",
    "                        else:\n",
    "                            # Agregar la fecha del reporte como una columna adicional en el DataFrame\n",
    "                            df['Fecha'] = fecha_reporte\n",
    "\n",
    "                            # Reordenar las columnas para que la fecha esté al final\n",
    "                            columnas = list(df.columns)\n",
    "                            columnas.append(columnas.pop(columnas.index('Fecha')))\n",
    "                            df = df[columnas]\n",
    "\n",
    "                            # Agregar el DataFrame a la lista\n",
    "                            dataframes.append(df)\n",
    "                    else:\n",
    "                        print(f\"No se encontró una fecha válida en el nombre del archivo '{archivo}'\")\n",
    "                except Exception as e:\n",
    "                    print(f\"Error al procesar el archivo {archivo}: {e}\")\n",
    "\n",
    "\n",
    "# Definir la ruta base que contiene las 12 carpetas de los meses\n",
    "ruta = \"C:/Users/david/Documents/Desarrollo/Datos2\"\n",
    "\n",
    "# Llamar a la función para procesar todos los archivos del año\n",
    "df_anual = recoleccion_archivos(ruta)\n"
   ]
  },
  {
   "cell_type": "code",
   "execution_count": 9,
   "metadata": {},
   "outputs": [],
   "source": [
    "#obtener una lista de los nombres de las carpetas\n",
    "def listar_meses(ruta):\n",
    "    # Se retorna una lista de los nombres de las carpetas (meses) que existen en la ruta indicada\n",
    "    return [mes for mes in os.listdir(ruta) if os.path.isdir(os.path.join(ruta, mes))]"
   ]
  },
  {
   "cell_type": "code",
   "execution_count": 10,
   "metadata": {},
   "outputs": [],
   "source": [
    "#obtener una lista de todos los archivos que terminan con la extensión .xls\n",
    "def listar_archivos_xls(ruta_mes):\n",
    "    # Se retorna una lista de los archivos con extensión '.xls' dentro del directorio especificado\n",
    "    return [f for f in os.listdir(ruta_mes) if f.endswith('.xls')]"
   ]
  },
  {
   "cell_type": "code",
   "execution_count": 11,
   "metadata": {},
   "outputs": [],
   "source": [
    "#extraer la fecha de un nombre de archivo, asumiendo que la fecha está en formato dd_mm_yyyy\n",
    "def extraer_fecha_desde_nombre(archivo):  # Buscar una fecha con formato 'DD_MM_YYYY' dentro del nombre del archivo\n",
    "    match = re.search(r'(\\d{1,2}_\\d{1,2}_\\d{4})', archivo)\n",
    "    if match:\n",
    "        # Convertir la fecha extraída de texto a un objeto de fecha\n",
    "        return datetime.strptime(match.group(1), '%d_%m_%Y').date()\n",
    "    return None # Retornar None si no se encuentra una fecha válida"
   ]
  },
  {
   "cell_type": "code",
   "execution_count": 12,
   "metadata": {},
   "outputs": [],
   "source": [
    "#leer un archivo Excel, realizar algunas transformaciones en los datos y devolver un DataFrame con la información procesada\n",
    "def procesar_archivo_excel(ruta_archivo, fecha_reporte):\n",
    "    try:\n",
    "        # Cargar el archivo Excel, omitiendo las primeras 3 filas y seleccionando columnas específicas\n",
    "        df = pd.read_excel(ruta_archivo, skiprows=3, usecols=[4, 5, 6, 7])\n",
    "        # Verificar si el DataFrame está vacío\n",
    "        if df.empty:\n",
    "            print(f\"El archivo {os.path.basename(ruta_archivo)} está vacío.\")\n",
    "            return None\n",
    "        \n",
    "        # Agregar la fecha de reporte como una nueva columna\n",
    "        df['Fecha'] = fecha_reporte\n",
    "        \n",
    "        # Reorganizar las columnas para que la fecha sea la última\n",
    "        columnas = list(df.columns) # Obtener la lista de nombres de columnas\n",
    "        columnas.append(columnas.pop(columnas.index('Fecha'))) # Mover la columna 'Fecha' al final\n",
    "        \n",
    "        return df[columnas]# Retornar el DataFrame reorganizado\n",
    "    \n",
    "    except Exception as e:\n",
    "        # Capturar y mostrar cualquier error que ocurra durante el procesamiento\n",
    "        print(f\"Error al procesar el archivo {os.path.basename(ruta_archivo)}: {e}\")\n",
    "        return None\n"
   ]
  },
  {
   "cell_type": "code",
   "execution_count": 14,
   "metadata": {},
   "outputs": [
    {
     "name": "stdout",
     "output_type": "stream",
     "text": [
      "Procesando mes: Abril24\n",
      "Procesando mes: Agosto24\n",
      "Procesando mes: Diciembre24\n",
      "El archivo 25_12_2024ProductosMasVendidos.xls está vacío.\n",
      "Procesando mes: Enero24\n",
      "El archivo 01_01_2024ProductosMasVendidos.xls está vacío.\n",
      "Procesando mes: Febrero24\n",
      "Procesando mes: Julio24\n",
      "Procesando mes: Junio24\n",
      "Procesando mes: Marzo24\n",
      "Procesando mes: Mayo24\n",
      "El archivo 01_05_2024ProductosMasVendidos.xls está vacío.\n",
      "Procesando mes: Noviembre24\n",
      "Procesando mes: Octubre24\n",
      "Procesando mes: Septiembre24\n"
     ]
    }
   ],
   "source": [
    "#reunir y procesar todos los archivos Excel (.xls) que se encuentran dentro de una estructura de carpetas organizadas por meses.\n",
    "def recoleccion_archivos(ruta):\n",
    "\n",
    "\n",
    "    dataframes = []  # Lista donde se almacenarán los DataFrames procesados\n",
    "    \n",
    "    # Iteramos sobre las carpetas de los meses dentro de la ruta base\n",
    "    for mes in listar_meses(ruta):\n",
    "        ruta_mes = os.path.join(ruta, mes)  # Construimos la ruta de la carpeta del mes\n",
    "        print(f\"Procesando mes: {mes}\")  # Mensaje informativo\n",
    "        \n",
    "        # Iteramos sobre los archivos Excel dentro de la carpeta del mes\n",
    "        for archivo in listar_archivos_xls(ruta_mes):\n",
    "            #print(f\"Procesando archivo: {archivo}\")  # Mensaje informativo\n",
    "            fecha_reporte = extraer_fecha_desde_nombre(archivo)  # Extraemos la fecha desde el nombre del archivo\n",
    "            \n",
    "            if fecha_reporte:  # Verificamos si la fecha fue extraída correctamente\n",
    "                # Procesamos el archivo Excel y obtenemos un DataFrame\n",
    "                df = procesar_archivo_excel(os.path.join(ruta_mes, archivo), fecha_reporte)\n",
    "                \n",
    "                if df is not None:  # Verificamos si el DataFrame se generó correctamente\n",
    "                    dataframes.append(df)  # Agregamos el DataFrame a la lista\n",
    "            else:\n",
    "                print(f\"No se encontró una fecha válida en el nombre del archivo '{archivo}'\")  # Mensaje de advertencia\n",
    "    \n",
    "    return dataframes  # Retornamos la lista de DataFrames procesados\n",
    "\n",
    "# Definir la ruta base\n",
    "ruta = \"C:/Users/david/Documents/Desarrollo/Datos2\"\n",
    "\n",
    "# Llamar a la función principal para recolectar y procesar los archivos Excel\n",
    "df_anual = recoleccion_archivos(ruta)\n",
    "\n"
   ]
  },
  {
   "cell_type": "code",
   "execution_count": null,
   "metadata": {},
   "outputs": [],
   "source": []
  }
 ],
 "metadata": {
  "kernelspec": {
   "display_name": "Python 3",
   "language": "python",
   "name": "python3"
  },
  "language_info": {
   "codemirror_mode": {
    "name": "ipython",
    "version": 3
   },
   "file_extension": ".py",
   "mimetype": "text/x-python",
   "name": "python",
   "nbconvert_exporter": "python",
   "pygments_lexer": "ipython3",
   "version": "3.12.10"
  }
 },
 "nbformat": 4,
 "nbformat_minor": 2
}
